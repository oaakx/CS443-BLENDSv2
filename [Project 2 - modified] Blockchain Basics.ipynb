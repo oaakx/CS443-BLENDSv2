{
 "cells": [
  {
   "cell_type": "markdown",
   "metadata": {},
   "source": [
    "## [Lab 4 Part II] Blockchain Basics\n",
    "\n",
    "In Part I, you have implemented basic cryptographic functions. In Part II, you will manage transactions and blocks.\n",
    "\n",
    "Part II consists of four parts.\n",
    "\n",
    "* Model: A blockchain has blocks of transactions.  You will implement functions to create and manage them.\n",
    "* DBManager: BLENDS uses a RDBMS called SQLite.  You will implement functions to store, index, and search blockchain data.\n",
    "* Verifier/Validator: You will implement functions to verify if blocks and transactions are formatted correctly.\n",
    "* Miner: You will implement functions to mine a new block.\n",
    "\n",
    "We have mined a few blocks and put them in \"scenario.db\".  The first block in the block chain is identified with a parent block hash value of 0xdecaf.\n"
   ]
  },
  {
   "cell_type": "code",
   "execution_count": 1,
   "metadata": {},
   "outputs": [],
   "source": [
    "from blends.node import crypto, util\n",
    "import json\n",
    "\n",
    "sender = crypto.load_secret_key('key0.json')\n",
    "receiver = crypto.load_secret_key('key1.json')\n",
    "\n",
    "f = open('key0.json', 'r')\n",
    "sender_n = int(json.loads(f.read())['modulus'],16)\n",
    "f = open('key1.json', 'r')\n",
    "receiver_n = int(json.loads(f.read())['modulus'],16)"
   ]
  },
  {
   "cell_type": "markdown",
   "metadata": {},
   "source": [
    "## Section 1: Model\n",
    "\n",
    "All blocks and transactions are objects. You will learn how to manage transactions and blocks one by one in this section.\n",
    "\n",
    "### Tutorial 1 : Create a new transaction\n",
    "\n",
    "BLENDS offers the following API to create a new transaction.\n",
    "\n",
    "```python\n",
    "def new_transaction(version: str, sender: str, receiver: str, timestamp: str, amount: int):\n",
    "```\n"
   ]
  },
  {
   "cell_type": "code",
   "execution_count": 2,
   "metadata": {},
   "outputs": [],
   "source": [
    "from blends.node.model import Transaction\n",
    "transaction = Transaction.new_transaction(\"test\", hex(sender_n), hex(receiver_n), util.now(), 10)"
   ]
  },
  {
   "cell_type": "markdown",
   "metadata": {},
   "source": [
    "This transaction has not been digital signed and must be signed with the sender's private key before use."
   ]
  },
  {
   "cell_type": "markdown",
   "metadata": {},
   "source": [
    "### Tutorial 2 : Transaction Hash\n",
    "\n",
    "The transaction hash is a unique identifier for each transaction.  You compute the transaction hash by applying a hash function to the transaction payload.  Below is the code for computing the transaction hash.\n",
    "\n",
    "**You must use `get_payload` to fetch the transaction payload.**"
   ]
  },
  {
   "cell_type": "code",
   "execution_count": 3,
   "metadata": {
    "scrolled": true
   },
   "outputs": [
    {
     "name": "stdout",
     "output_type": "stream",
     "text": [
      "0xcd19e0c43dad85612f9da9c7596c806d9c3b4703fbb494cc98746b695dbe111f555482dce648e2ae803757360765d323735334bef691f7e659c554e38278b49b\n",
      "<Transaction: 0xcd19e0c43dad85612f9da9c7596c806d9c3b4703fbb494cc98746b695dbe111f555482dce648e2ae803757360765d323735334bef691f7e659c554e38278b49b>\n"
     ]
    }
   ],
   "source": [
    "payload = transaction.get_payload()\n",
    "hash_ = crypto.get_hash(payload)\n",
    "print(hash_)\n",
    "transaction.set_hash(hash_)\n",
    "\n",
    "print(transaction)"
   ]
  },
  {
   "cell_type": "markdown",
   "metadata": {},
   "source": [
    "### Exercise 1 : Sign a transaction\n",
    "\n",
    "You have learned how to compute the hash of a transaction.  Now you will sign the `transaction`.\n",
    "\n",
    "the transaction's signature is the result of the sign function. transaction hash is the input of the function.\n",
    "\n",
    "```\n",
    "def set_sign(self, sign: str):\n",
    "```\n"
   ]
  },
  {
   "cell_type": "code",
   "execution_count": 4,
   "metadata": {},
   "outputs": [],
   "source": [
    "#sign = crypto.sign(transaction, hash_) #<- should be implemented\n",
    "\n",
    "#transaction.set_sign(sign)"
   ]
  },
  {
   "cell_type": "markdown",
   "metadata": {},
   "source": [
    "### Tutorial 3 : Create a new block\n",
    "\n",
    "You have created a transaction, computed its hash, and signed it.  Now let's create a block.  In BLENDS has defined a  `Block` class. Use the following API to create a new block.\n",
    "\n",
    "```python\n",
    "def new_block(version: str, parent: str, timestamp: str, miner: str, difficulty: int):\n",
    "```\n"
   ]
  },
  {
   "cell_type": "code",
   "execution_count": 5,
   "metadata": {},
   "outputs": [],
   "source": [
    "from blends.node.model import Block\n",
    "block = Block.new_block(\"test\", None, util.now(), hex(sender_n), 0)"
   ]
  },
  {
   "cell_type": "markdown",
   "metadata": {},
   "source": [
    "### Tutorial 4: Nonce\n",
    "\n",
    "Every block will have a nonce. You change the value of this nonce later in mining.  Use the following API to change the value of the nonce.\n",
    "\n",
    "```python\n",
    "def set_nonce(self, nonce: int)\n",
    "```\n"
   ]
  },
  {
   "cell_type": "code",
   "execution_count": 6,
   "metadata": {},
   "outputs": [],
   "source": [
    "block.set_nonce(1)"
   ]
  },
  {
   "cell_type": "markdown",
   "metadata": {},
   "source": [
    "### Tutorial 5: Add a transaction to a block\n",
    "\n",
    "A single block may contain multiple transactions.  In BLENDS, you can add transactions to `blocks.txt`.\n"
   ]
  },
  {
   "cell_type": "code",
   "execution_count": 7,
   "metadata": {},
   "outputs": [],
   "source": [
    "block.txs.append(transaction)"
   ]
  },
  {
   "cell_type": "markdown",
   "metadata": {},
   "source": [
    "### Exercise 2 : Block Hash\n",
    "\n",
    "Every block has a unique hash value. In BLENDS, use the following API to set the hash value.\n",
    "\n",
    "```python\n",
    "def set_hash(self, hash)\n",
    "```\n",
    "\n",
    "As with transactions, you must use the `get_payload` function to get the payload of a block. Now compute the hash of the block.\n",
    "\n",
    "Below compute the hash of the block you just created above."
   ]
  },
  {
   "cell_type": "code",
   "execution_count": 8,
   "metadata": {},
   "outputs": [
    {
     "name": "stdout",
     "output_type": "stream",
     "text": [
      "{\"difficulty\": 0, \"miner\": \"0xb7054a9125f2f677f174130d145a4d76c64ad1e49534bd61fecabcfac309a6bea0dc40d256d086be844c1b12813bf9ed7a79faa9c2559a5af4b07b789432804286a43d64c7c4c9f3fa21353e3064bcf8dd63154862265511cd438e01470b9eda36906ae7de1d40621b78f4302d6cec9211f3da8e537a1043ac91d0bd7d417062477bb6c21761ec15091526f034ad7a36f161cb637a0282d832b236eb4be4291a0b9e55de4664a511e3418bda4300940cc4fcf95ee610a39efc256b6e9d99bd356e412477c8cd8ef704ebab0d904a865a94f42ae775eae7ea7fe36a404a2f5230bd8b5e73f0c1d66d0cd87fd65857e1bdc58620255aca68bac8eff78132532e31\", \"nonce\": 1, \"parent\": null, \"timestamp\": \"2018-12-19T14:15:26\", \"transactions\": [{\"header\": {\"hash\": \"0xcd19e0c43dad85612f9da9c7596c806d9c3b4703fbb494cc98746b695dbe111f555482dce648e2ae803757360765d323735334bef691f7e659c554e38278b49b\", \"sign\": null, \"type\": \"transaction\", \"version\": \"test\"}, \"payload\": {\"amount\": 10, \"receiver\": \"0xafc048858bbf511c56a5a3bfd866211a4263570ad5ac47c6596be0324dfae0ccdc8d04d3e576390462d554a0873724cbbca4246632074a24eb5cac62b3150d1cacf7b11e0e0507d7b3f1ab0253539c701db8e04ff465567add08c34d930779d278fc37245e506a3528af318b1da611ddb1f6e160b776b0c10af1f6e4894bebc985a84c2dd72dbea7363448a322b8a4f480de1167c2901e288767098ed0201f5cc73ec2328de85a2f0296f58153e1adabfd99bf7c12447697983b2940c6fc2f6f9db21769afc9cb1579f651786242267311609a95313d8a3ebf76fe2743507c9017feabc4d49c601a6b00d3107fcc1f7c5358f14a83267970b5973233501fb3df\", \"sender\": \"0xb7054a9125f2f677f174130d145a4d76c64ad1e49534bd61fecabcfac309a6bea0dc40d256d086be844c1b12813bf9ed7a79faa9c2559a5af4b07b789432804286a43d64c7c4c9f3fa21353e3064bcf8dd63154862265511cd438e01470b9eda36906ae7de1d40621b78f4302d6cec9211f3da8e537a1043ac91d0bd7d417062477bb6c21761ec15091526f034ad7a36f161cb637a0282d832b236eb4be4291a0b9e55de4664a511e3418bda4300940cc4fcf95ee610a39efc256b6e9d99bd356e412477c8cd8ef704ebab0d904a865a94f42ae775eae7ea7fe36a404a2f5230bd8b5e73f0c1d66d0cd87fd65857e1bdc58620255aca68bac8eff78132532e31\", \"timestamp\": \"2018-12-19T14:15:26\"}}]}\n"
     ]
    }
   ],
   "source": [
    "payload = block.get_payload()\n",
    "print(payload)\n",
    "\n",
    "hash_ = crypto.get_hash(payload)\n",
    "block.set_hash(hash_)"
   ]
  },
  {
   "cell_type": "markdown",
   "metadata": {},
   "source": [
    "So far you have learned to create transactions and blocks and set their hash values.  Next, you will implement blockchain operations on `transactions` and `blocks`."
   ]
  },
  {
   "cell_type": "markdown",
   "metadata": {},
   "source": [
    "## Section 2: DBManager\n",
    "\n",
    "BLENDS uses SQLite to store and index transactions and blocks.\n",
    "\n",
    "In this section, you will implement `DBManager` in BLENDS.\n",
    "\n",
    "You have not implemented mining functions, and thus BLENDS offers a preloaded database for you to work with.\n"
   ]
  },
  {
   "cell_type": "code",
   "execution_count": 9,
   "metadata": {},
   "outputs": [],
   "source": [
    "# Initiazation code for DBManager\n",
    "from blends.node.blockchain.dbmanager import DBManager\n",
    "dbmanager = DBManager(\"sqlite:///scenario.db\")"
   ]
  },
  {
   "cell_type": "markdown",
   "metadata": {},
   "source": [
    "### Problem 1 : `DBManager.search_block`\n",
    "\n",
    "Implement `def search_block(self, block_hash: str)` function in [dbmanager.py](/edit/blends/node/blockchain/dbmanager.py)\n",
    "\n",
    "* Given a hash value, search the block with the hash value.\n",
    "* If the search returns successful, return the `Block` object; otherwise, return `None`.\n",
    "* Using `session.query(Block).all()`, iterate through the entire block chain.\n",
    "* If you are familiar with DB and ORM, feel free to use ORM."
   ]
  },
  {
   "cell_type": "code",
   "execution_count": 10,
   "metadata": {},
   "outputs": [
    {
     "name": "stdout",
     "output_type": "stream",
     "text": [
      "PASS\n",
      "PASS\n",
      "PASS\n",
      "PASS\n",
      "PASS\n"
     ]
    }
   ],
   "source": [
    "# Test  \n",
    "session = dbmanager.get_session()\n",
    "block_set = session.query(Block).all()\n",
    "for block in block_set:\n",
    "    header = block.get_header()\n",
    "    if(block == dbmanager.search_block(header[\"hash\"])):\n",
    "        print(\"PASS\")\n",
    "    else:\n",
    "        print(\"FAIL\")"
   ]
  },
  {
   "cell_type": "markdown",
   "metadata": {},
   "source": [
    "### Problem 2: `DBManager.get_height`\n",
    "\n",
    "Implement `def get_height(self, block_hash: str)` function in [dbmanager.py](/edit/blends/node/blockchain/dbmanager.py)\n",
    "\n",
    "* Now let's compute the height of the block. BLENDS does not use the Merkle tree, thus the height equals the length in the blockchain.\n",
    "* If successful, the function returns `height : int`; otherwise, `None`.\n",
    "* The genesis block with no parent has `height` of 0.\n",
    "* Iterate through the blocks using `session.query(Block).all()`.\n",
    "* Feel free to use ORM.\n"
   ]
  },
  {
   "cell_type": "code",
   "execution_count": 11,
   "metadata": {
    "scrolled": true
   },
   "outputs": [
    {
     "name": "stdout",
     "output_type": "stream",
     "text": [
      "PASS\n",
      "PASS\n",
      "PASS\n",
      "PASS\n",
      "PASS\n"
     ]
    }
   ],
   "source": [
    "# Test  \n",
    "session = dbmanager.get_session()\n",
    "block_set = session.query(Block).all()\n",
    "height_set = [0, 1, 2, 3, 4]\n",
    "for i in range(5):\n",
    "    header = block_set[i].get_header()\n",
    "    if(height_set[i] == dbmanager.get_height(header[\"hash\"])):\n",
    "        print(\"PASS\")\n",
    "    else:\n",
    "        print(\"FAIL\")"
   ]
  },
  {
   "cell_type": "markdown",
   "metadata": {},
   "source": [
    "### Problem 3 : `DBManager.get_current`\n",
    "\n",
    "Implement `def get_current(self)` function in [dbmanager.py](/edit/blends/node/blockchain/dbmanager.py)\n",
    "\n",
    "* Now let's fetch the highest block in the database.\n",
    "* If there are more than one block with the same height, either will do.\n",
    "* You may use functions implemented above.\n",
    "* You can iterate through the chain using `session.query(Block).all()`.\n",
    "* Again, feel free to use ORM.\n"
   ]
  },
  {
   "cell_type": "code",
   "execution_count": 12,
   "metadata": {},
   "outputs": [
    {
     "name": "stdout",
     "output_type": "stream",
     "text": [
      "PASS\n"
     ]
    }
   ],
   "source": [
    "# Test  \n",
    "session = dbmanager.get_session()\n",
    "block_set = session.query(Block).all()\n",
    "if(block_set[4] == dbmanager.get_current()):\n",
    "    print(\"PASS\")\n",
    "else:\n",
    "    print(\"FAIL\")"
   ]
  },
  {
   "cell_type": "markdown",
   "metadata": {},
   "source": [
    "### Problem 4 : `DBManager.get_longest`\n",
    "\n",
    "Implement `def get_longest(self)` function in [dbmanager.py](/edit/blends/node/blockchain/dbmanager.py)\n",
    "\n",
    "* Now let's fetch the longest chain in the database.  Just get the longest chain.\n",
    "* If there are more than one longest chain with the same length, either will do.\n",
    "* You may use functions implemented above.\n",
    "* You can iterate through the chain using `session.query(Block).all()`.\n",
    "* Again, feel free to use ORM."
   ]
  },
  {
   "cell_type": "code",
   "execution_count": 13,
   "metadata": {},
   "outputs": [
    {
     "name": "stdout",
     "output_type": "stream",
     "text": [
      "PASS\n"
     ]
    }
   ],
   "source": [
    "# Test  \n",
    "session = dbmanager.get_session()\n",
    "block_set = session.query(Block).all()\n",
    "longest_chain = dbmanager.get_longest()\n",
    "if block_set == longest_chain:\n",
    "    print(\"PASS\")\n",
    "else:\n",
    "    print(\"FAIL\")"
   ]
  },
  {
   "cell_type": "markdown",
   "metadata": {},
   "source": [
    "### Problem 5 : `DBManager.search_transaction`\n",
    "\n",
    "Implement `def search_transaction(self, tx_hash: str)` function in [dbmanager.py](/edit/blends/node/blockchain/dbmanager.py)\n",
    "\n",
    "* Search the transaction by the hash value.\n",
    "* Iterate throug the transactions using `session.query(Transaction).all()`.\n",
    "* Again, feel free to use ORM."
   ]
  },
  {
   "cell_type": "code",
   "execution_count": 14,
   "metadata": {},
   "outputs": [
    {
     "name": "stdout",
     "output_type": "stream",
     "text": [
      "PASS\n",
      "PASS\n",
      "PASS\n",
      "PASS\n"
     ]
    }
   ],
   "source": [
    "# Test  \n",
    "session = dbmanager.get_session()\n",
    "tx_set = session.query(Transaction).all()\n",
    "for tx in tx_set:\n",
    "    header = tx.get_header()\n",
    "    if(tx == dbmanager.search_transaction(header[\"hash\"])):\n",
    "        print(\"PASS\")\n",
    "    else:\n",
    "        print(\"FAIL\")"
   ]
  },
  {
   "cell_type": "markdown",
   "metadata": {},
   "source": [
    "### Problem 6 : `DBManager.get_block_balance`\n",
    "\n",
    "* Now let's compute the balance of a block.\n",
    "* The API must return `Dictionary` of `{ \"key\" : value }`.\n",
    "* Iterate through the blocks using `session.query(Block).all()`.\n",
    "* You should add `REWARD` to miner's account.\n",
    "* Again, feel free to use ORM.\n",
    "\n",
    "Implement `def get_block_balance(self, block_hash: str)` function in [verifier.py](/edit/blends/node/blockchain/dbmanager.py)"
   ]
  },
  {
   "cell_type": "code",
   "execution_count": 15,
   "metadata": {},
   "outputs": [
    {
     "name": "stdout",
     "output_type": "stream",
     "text": [
      "PASS\n",
      "PASS\n",
      "PASS\n"
     ]
    }
   ],
   "source": [
    "# Test  \n",
    "session = dbmanager.get_session()\n",
    "block_set = session.query(Block).all()\n",
    "miner_set = []\n",
    "for block in block_set:\n",
    "    if block.miner not in miner_set:\n",
    "        miner_set.append(block.miner)\n",
    "value_set = [54, 20, 26]\n",
    "\n",
    "block = block_set[4]\n",
    "header = block.get_header()\n",
    "balance_dict = dbmanager.get_block_balance(header[\"hash\"])\n",
    "for i in range(3):\n",
    "    if balance_dict[miner_set[i]] == value_set[i]:\n",
    "        print(\"PASS\")\n",
    "    else:\n",
    "        print(\"FAIL\")"
   ]
  },
  {
   "cell_type": "markdown",
   "metadata": {},
   "source": [
    "## Section 3: Verifier/Validator\n",
    "\n",
    "Here you will implement function to verify correctness of transactions and blocks.\n",
    "\n",
    "BLENDS employs two steps of `Verifier` and `Validator`.\n",
    "\n",
    "* Verifier: verifies intra-transaction and intra-block their own correctness.\n",
    "* Validator: veritifes intra-transaction and inter-block correctness.\n"
   ]
  },
  {
   "cell_type": "code",
   "execution_count": 16,
   "metadata": {},
   "outputs": [],
   "source": [
    "# Initialization\n",
    "from blends.node.blockchain.verifier import Verifier\n",
    "verifier = Verifier()"
   ]
  },
  {
   "cell_type": "markdown",
   "metadata": {},
   "source": [
    "### Problem 1 : `Verifier.verify_transaction`\n",
    "\n",
    "Implement `def verify_transaction(self, transaction: Transaction)` function in [verifier.py](/edit/blends/node/blockchain/verifier.py)\n",
    "\n",
    "* This funciton checks in a transaction the following points: (1) all fields in transaction are in correct format; (2) the hash and the digital signature are correct.\n",
    "* If the transaction passes all the checks, the function returns `True`; otherwise `False`."
   ]
  },
  {
   "cell_type": "code",
   "execution_count": null,
   "metadata": {},
   "outputs": [],
   "source": []
  },
  {
   "cell_type": "code",
   "execution_count": 17,
   "metadata": {
    "scrolled": true
   },
   "outputs": [
    {
     "name": "stdout",
     "output_type": "stream",
     "text": [
      "PASS\n",
      "PASS\n",
      "PASS\n",
      "PASS\n",
      "PASS\n",
      "PASS\n",
      "PASS\n",
      "PASS\n"
     ]
    }
   ],
   "source": [
    "# Test  \n",
    "import copy\n",
    "session = dbmanager.get_session()\n",
    "tx_set = []\n",
    "tx_set = session.query(Transaction).all()\n",
    "for tx in tx_set:\n",
    "    if(verifier.verify_transaction(tx)):\n",
    "        print(\"PASS\")\n",
    "    else:\n",
    "        print(\"FAIL\")\n",
    "\n",
    "ill_tx_set = copy.deepcopy(tx_set)\n",
    "ill_tx_set[0].hash = \"0xdeadbeef\"\n",
    "ill_tx_set[1].receiver = ill_tx_set[1].sender\n",
    "ill_tx_set[2].amount = 1000\n",
    "ill_tx_set[3].timestamp = \"2012-12-08T05:14:24\"\n",
    "for ill_tx in ill_tx_set:\n",
    "    if(verifier.verify_transaction(ill_tx)):\n",
    "        print(\"FAIL\")\n",
    "    else:\n",
    "        print(\"PASS\")"
   ]
  },
  {
   "cell_type": "markdown",
   "metadata": {},
   "source": [
    "### Problem 2: `Verifier.verify_block`\n",
    "\n",
    "Implement `def verify_block(self, block: Block)` function in [verifier.py](/edit/blends/node/blockchain/verifier.py)\n",
    "\n",
    "* This function checks in a block the following points: (1) all fields are correct; (2) the hash is correct; (3) if the hash is within the given range of hash value from `Difficulty`. (4) all transactions in the block are correct.\n",
    "* Block hash must be smaller than target difficulty hash: 2^512/2^(20+difficulty)\n",
    "* If the block passes all the checks, the function returns `True`; otherwise `False`."
   ]
  },
  {
   "cell_type": "code",
   "execution_count": 18,
   "metadata": {},
   "outputs": [
    {
     "name": "stdout",
     "output_type": "stream",
     "text": [
      "PASS\n",
      "PASS\n",
      "PASS\n",
      "PASS\n",
      "PASS\n",
      "PASS\n",
      "PASS\n"
     ]
    }
   ],
   "source": [
    "# Test  \n",
    "session = dbmanager.get_session()\n",
    "block_set = session.query(Block).all()\n",
    "for block in block_set:\n",
    "    if(verifier.verify_block(block)):\n",
    "        print(\"PASS\")\n",
    "    else:\n",
    "        print(\"FAIL\")\n",
    "        \n",
    "ill_block_set = []\n",
    "ill_block_set.append(copy.deepcopy(block_set[0]))\n",
    "ill_block_set.append(copy.deepcopy(block_set[1]))\n",
    "ill_block_set[0].hash = \"0xdeadbeef\"\n",
    "ill_block_set[1].difficulty = 12\n",
    "for ill_block in ill_block_set:\n",
    "    if(verifier.verify_block(ill_block)):\n",
    "        print(\"FAIL\")\n",
    "    else:\n",
    "        print(\"PASS\")"
   ]
  },
  {
   "cell_type": "markdown",
   "metadata": {},
   "source": [
    "### Problem 3: `Blockchain.validate_transaction`\n",
    "\n",
    "Implement `def validate_transaction(self, tx: Transaction, block: Block) ` function in [blockchain.py](/edit/blends/node/blockchain/blockchain.py)\n",
    "\n",
    "* This function checks if the transaction can be added to a block.\n",
    "* First, it must check if the transaction has been included in another block.\n",
    "* Then, if the transction is added, the balance is correct.\n",
    "* If the transaction is correct, the function returns `True`; otherwise, `False`."
   ]
  },
  {
   "cell_type": "code",
   "execution_count": 19,
   "metadata": {},
   "outputs": [
    {
     "name": "stdout",
     "output_type": "stream",
     "text": [
      "PASS\n",
      "PASS\n",
      "PASS\n"
     ]
    }
   ],
   "source": [
    "from blends.node.blockchain.blockchain import Blockchain\n",
    "blockchain = Blockchain(\"sqlite:///scenario.db\")\n",
    "# Test  \n",
    "session = dbmanager.get_session()\n",
    "block_set = session.query(Block).all()\n",
    "tx_set = session.query(Transaction).all()\n",
    "\n",
    "# good transaction\n",
    "new_tx = Transaction.new_transaction(\"beta\", hex(sender_n), hex(receiver_n), \"2018-12-08T08:28:38\", 10)\n",
    "payload = new_tx.get_payload()\n",
    "hash_ = crypto.get_hash(payload)\n",
    "new_tx.set_hash(hash_)\n",
    "new_tx.set_sign(crypto.sign(sender, new_tx.hash))\n",
    "# bad transaction\n",
    "bad_tx = Transaction.new_transaction(\"beta\", hex(sender_n), hex(receiver_n), \"2018-12-08T08:28:38\", 10000)\n",
    "payload = bad_tx.get_payload()\n",
    "hash_ = crypto.get_hash(payload)\n",
    "bad_tx.set_hash(hash_)\n",
    "bad_tx.set_sign(crypto.sign(sender, bad_tx.hash))\n",
    "\n",
    "if blockchain.validate_transaction(new_tx, block_set[4]):\n",
    "    print(\"PASS\")\n",
    "else:\n",
    "    print(\"FAIL\")\n",
    "if blockchain.validate_transaction(bad_tx, block_set[4]):\n",
    "    print(\"FAIL\")\n",
    "else:\n",
    "    print(\"PASS\")\n",
    "if blockchain.validate_transaction(tx_set[2], block_set[4]):\n",
    "    print(\"FAIL\")\n",
    "else:\n",
    "    print(\"PASS\")"
   ]
  },
  {
   "cell_type": "markdown",
   "metadata": {},
   "source": [
    "### Problem 4: `Blockchain.validate_block`\n",
    "\n",
    "Implement `def validate_block(self, block: Block)` function in [blockchain.py](/edit/blends/node/blockchain/blockchain.py)\n",
    "\n",
    "* This function checks if the entire block is correct.\n",
    "* It checks if the parent block exists.\n",
    "* It checks if the balance of the block is all correct.\n",
    "* If the block passes all the above checks, the function returns `True`; otherwise `False`."
   ]
  },
  {
   "cell_type": "code",
   "execution_count": 20,
   "metadata": {},
   "outputs": [
    {
     "name": "stdout",
     "output_type": "stream",
     "text": [
      "PASS\n",
      "PASS\n",
      "PASS\n",
      "PASS\n",
      "PASS\n",
      "PASS\n",
      "PASS\n",
      "PASS\n",
      "PASS\n"
     ]
    }
   ],
   "source": [
    "from blends.node.blockchain.blockchain import Blockchain\n",
    "blockchain = Blockchain(\"sqlite:///scenario.db\")\n",
    "# Test  \n",
    "session = dbmanager.get_session()\n",
    "block_set = session.query(Block).all()\n",
    "tx_set = session.query(Transaction).all()\n",
    "\n",
    "for block in block_set:\n",
    "    if blockchain.validate_block(block):\n",
    "        print(\"PASS\")\n",
    "    else:\n",
    "        print(\"FAIL\")\n",
    "        \n",
    "block = Block.new_block(\"test\", None, util.now(), hex(sender_n), 0)\n",
    "if blockchain.validate_block(block) and not blockchain.verifier.verify_block(block):\n",
    "    print(\"FAIL\")\n",
    "else:\n",
    "    print(\"PASS\")\n",
    "     \n",
    "block = Block.new_block(\"test\", \"0x12313\", util.now(), hex(sender_n), 0)\n",
    "if blockchain.validate_block(block) and not blockchain.verifier.verify_block(block):\n",
    "    print(\"FAIL\")\n",
    "else:\n",
    "    print(\"PASS\")\n",
    "    \n",
    "\n",
    "ill_block_set = []\n",
    "ill_block_set.append(block_set[0])\n",
    "ill_block_set.append(block_set[2])\n",
    "prnt = ill_block_set[0].parent\n",
    "ill_block_set[0].parent = \"0xdeadbeef\"\n",
    "ill_block_set[1].txs[0].amount = 10000\n",
    "\n",
    "for block in ill_block_set:\n",
    "    if blockchain.validate_block(block):\n",
    "        print(\"FAIL\")\n",
    "    else:\n",
    "        print(\"PASS\")\n",
    "        \n",
    "ill_block_set[0].parent = prnt\n",
    "ill_block_set[1].txs[0].amount = 1"
   ]
  },
  {
   "cell_type": "markdown",
   "metadata": {},
   "source": [
    "## Section 4: Mining\n",
    "\n",
    "In this section, you will implement mining. \n",
    "\n",
    "BLENDS uses basic PoW (Proof-of-Work) based consensous algorithm. \n",
    "\n",
    "### Problem 1: `mine_block`\n",
    "\n",
    "Implement`mine_block` function in [miner.py](/edit/blends/node/miner/miner.py) \n",
    "\n",
    "In the function, you have to generate a hash value which has higher difficulty than the `self.block`'s difficulty.\n",
    "\n",
    "\n",
    "* You should update `timestamp` periodically.\n",
    "* You can access `hash`, `nonce`, `timestamp`, `difficulty` by accessing `self.block.<field_name>`.\n",
    "* `difficulty` is read-only value. You should update the others.\n",
    "*  If a new block is mint, the function returns `True`\n",
    "* In this test code, you mine a block with low difficulty.\n"
   ]
  },
  {
   "cell_type": "code",
   "execution_count": 22,
   "metadata": {
    "scrolled": true
   },
   "outputs": [
    {
     "name": "stdout",
     "output_type": "stream",
     "text": [
      "Start Mining: be patient.\n",
      "1\n",
      "100001\n",
      "200001\n",
      "300001\n",
      "PASS <Block: 0x00000492566993e8dece0765eae56679ae378a529c32e699ed9da077a02fc021703272a0607faf00486997ab0e7caa6eadcb75d2b2cff19f7c943f9174cebc2f>\n",
      "Done\n"
     ]
    }
   ],
   "source": [
    "import threading\n",
    "\n",
    "from blends.node.miner import Miner\n",
    "from blends.node.model import Block, Transaction\n",
    "from blends.node.blockchain.verifier import Verifier\n",
    "from blends.node import crypto, util\n",
    "\n",
    "key = crypto.load_secret_key('key0.json')\n",
    "key1 = crypto.load_secret_key('key1.json')\n",
    "key2 = crypto.load_secret_key('key2.json')\n",
    "f = open('key0.json', 'r')\n",
    "key_n = int(json.loads(f.read())['modulus'],16)\n",
    "f = open('key1.json', 'r')\n",
    "key1_n = int(json.loads(f.read())['modulus'],16)\n",
    "f = open('key2.json', 'r')\n",
    "key2_n = int(json.loads(f.read())['modulus'],16)\n",
    "\n",
    "DIFFICULTY = 0\n",
    "\n",
    "block = Block.new_block(\"testing\", '0xdecaf', util.now(), hex(key_n), DIFFICULTY)\n",
    "\n",
    "tx1 =  Transaction.new_transaction(\"testing\", hex(key_n), hex(key1_n), util.now(), 1)\n",
    "tx1.set_hash(crypto.get_hash(tx1.get_payload()))\n",
    "tx1.set_sign(crypto.sign(key, tx1.hash))\n",
    "\n",
    "tx2 =  Transaction.new_transaction(\"testing\", hex(key_n), hex(key1_n), util.now(), 3)\n",
    "tx2.set_hash(crypto.get_hash(tx2.get_payload()))\n",
    "tx2.set_sign(crypto.sign(key, tx2.hash))\n",
    "\n",
    "block.txs.append(tx1)\n",
    "block.txs.append(tx2)\n",
    "\n",
    "mining = threading.Event()\n",
    "mining.set()\n",
    "\n",
    "miner = Miner(block, mining)\n",
    "print(\"Start Mining: be patient.\")\n",
    "if miner.mine_block():\n",
    "    \n",
    "    verifier = Verifier()\n",
    "    if verifier.verify_block(miner.block):\n",
    "        print(\"PASS\", miner.block)\n",
    "    else:\n",
    "        print(\"FAIL\")\n",
    "        print(miner.block)\n",
    "        print(miner.block.get_header())\n",
    "        print(miner.block.get_payload())\n",
    "\n",
    "print(\"Done\")"
   ]
  },
  {
   "cell_type": "markdown",
   "metadata": {},
   "source": [
    "### Problem 2: Mining a Real Block\n",
    "\n",
    "Finally, you have to mine a new block with same dificulty in our blockchain.\n",
    "\n",
    "* A new block will be inserted in the `scenario.db`. Database insertion requires addtional constraint checkings. If it fails, you should check formats of your model implementations.\n",
    "* Mining a block with high difficulty consumes much time (hours). You should optimize your codes for faster mining.\n"
   ]
  },
  {
   "cell_type": "code",
   "execution_count": null,
   "metadata": {},
   "outputs": [
    {
     "name": "stdout",
     "output_type": "stream",
     "text": [
      "Start Mining: be patient.\n",
      "1\n",
      "100001\n",
      "200001\n",
      "300001\n",
      "400001\n",
      "500001\n",
      "600001\n",
      "700001\n",
      "800001\n",
      "900001\n",
      "1000001\n",
      "1100001\n",
      "1200001\n",
      "1300001\n",
      "1400001\n",
      "1500001\n",
      "1600001\n",
      "1700001\n",
      "1800001\n",
      "1900001\n",
      "2000001\n",
      "2100001\n",
      "2200001\n",
      "2300001\n",
      "2400001\n",
      "2500001\n",
      "2600001\n",
      "2700001\n",
      "2800001\n",
      "2900001\n",
      "3000001\n",
      "3100001\n",
      "3200001\n",
      "3300001\n",
      "3400001\n",
      "3500001\n",
      "3600001\n",
      "3700001\n",
      "3800001\n",
      "3900001\n",
      "4000001\n",
      "4100001\n",
      "4200001\n",
      "4300001\n",
      "4400001\n",
      "4500001\n",
      "4600001\n",
      "4700001\n",
      "4800001\n",
      "4900001\n",
      "5000001\n",
      "5100001\n",
      "5200001\n",
      "5300001\n",
      "5400001\n",
      "5500001\n",
      "5600001\n",
      "5700001\n",
      "5800001\n",
      "5900001\n",
      "6000001\n",
      "6100001\n",
      "6200001\n",
      "6300001\n",
      "6400001\n",
      "6500001\n",
      "6600001\n",
      "6700001\n",
      "6800001\n",
      "6900001\n",
      "7000001\n",
      "7100001\n",
      "7200001\n",
      "7300001\n",
      "7400001\n",
      "7500001\n",
      "7600001\n",
      "7700001\n",
      "7800001\n",
      "7900001\n",
      "8000001\n",
      "8100001\n",
      "8200001\n",
      "8300001\n",
      "8400001\n",
      "8500001\n",
      "8600001\n",
      "8700001\n",
      "8800001\n",
      "8900001\n",
      "9000001\n",
      "9100001\n",
      "9200001\n",
      "9300001\n",
      "9400001\n",
      "9500001\n",
      "9600001\n"
     ]
    }
   ],
   "source": [
    "DIFFICULTY = 4\n",
    "\n",
    "\n",
    "parent = blockchain.get_current()\n",
    "\n",
    "block = Block.new_block(\"beta\", parent.hash, util.now(), hex(key_n), DIFFICULTY)\n",
    "\n",
    "tx1 =  Transaction.new_transaction(\"beta\", hex(key_n), hex(key1_n), util.now(), 1)\n",
    "tx1.set_hash(crypto.get_hash(tx1.get_payload()))\n",
    "tx1.set_sign(crypto.sign(key, tx1.hash))\n",
    "\n",
    "block.txs.append(tx1)\n",
    "\n",
    "import shutil\n",
    "shutil.copy2('scenario.db', 'scenario_mining.db')\n",
    "blockchain = Blockchain(\"sqlite:///scenario_mining.db\")\n",
    "\n",
    "\n",
    "miner = Miner(block, mining)\n",
    "print(\"Start Mining: be patient.\")\n",
    "if miner.mine_block():\n",
    "    print('mined!')\n",
    "#     if blockchain.append(miner.block):\n",
    "#         print(\"PASS\", miner.block)\n",
    "#     else:\n",
    "#         print(\"FAIL\")\n",
    "\n",
    "\n",
    "else:\n",
    "    print(\"FAIL\")\n",
    "    print(miner.block)\n",
    "    print(miner.block.get_header())\n",
    "    print(miner.block.get_payload())\n",
    "\n",
    "print(\"Done\")\n"
   ]
  },
  {
   "cell_type": "code",
   "execution_count": null,
   "metadata": {},
   "outputs": [],
   "source": []
  }
 ],
 "metadata": {
  "kernelspec": {
   "display_name": "Python 3",
   "language": "python",
   "name": "python3"
  },
  "language_info": {
   "codemirror_mode": {
    "name": "ipython",
    "version": 3
   },
   "file_extension": ".py",
   "mimetype": "text/x-python",
   "name": "python",
   "nbconvert_exporter": "python",
   "pygments_lexer": "ipython3",
   "version": "3.7.1"
  }
 },
 "nbformat": 4,
 "nbformat_minor": 2
}
